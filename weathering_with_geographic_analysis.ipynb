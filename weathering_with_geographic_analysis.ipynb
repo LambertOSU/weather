{
 "cells": [
  {
   "cell_type": "markdown",
   "metadata": {},
   "source": [
    "# PET Weathering Batch Simulation"
   ]
  },
  {
   "cell_type": "markdown",
   "metadata": {},
   "source": [
    "This notebook contains a simulation of the degredation of polyethylene terephthalate (PET) with comparitive geographic analysis. A model from literature of combined photochemical and thermal degradation is subjected to typical year data from the NREL database. Relative damage is calculated and reported.\n",
    "\n",
    "The model is from: \n",
    "> <em>An Arrhenius approach to estimating organic photovoltaic module weathering acceleration factors.</em> \n",
    "> <br>Olivier Haillant, David Dumbleton, Allen Zielnik. Solar Energy Materials & Solar Cells 95 (2011) 1889–1895\n",
    "\n",
    "The \"typical year\" weather files are here:<br> \n",
    "> http://rredc.nrel.gov/solar/old_data/nsrdb/1991-2005/tmy3/by_state_and_city.html\n",
    "\n",
    "The user's guide for the data sets is here:<br> \n",
    "> http://www.nrel.gov/docs/fy08osti/43156.pdf\n",
    "\n",
    "__Technical Note:__ In the work cited, the amplification factor is considered a constant.  In this simulation it was calculated as a second order function of the relative humidity. This is shown in detail below.\n",
    "<br>\n",
    "<font color='red'>Formatting Note:</font>  The data used in this simulation has been formatted using __format_NREL_data.ipynb__ and loaded to MySQL using __NREL_to_MySQL.ipynb__, both found in the repository.\n",
    "<br><br>"
   ]
  },
  {
   "cell_type": "markdown",
   "metadata": {},
   "source": [
    "## Preamble"
   ]
  },
  {
   "cell_type": "markdown",
   "metadata": {},
   "source": [
    "Package management."
   ]
  },
  {
   "cell_type": "code",
   "execution_count": 1,
   "metadata": {
    "collapsed": true
   },
   "outputs": [],
   "source": [
    "import mysql.connector\n",
    "import math\n",
    "from datetime import datetime\n",
    "from matplotlib import pyplot as plt\n",
    "\n",
    "import time\n",
    "\n",
    "st = time.time()"
   ]
  },
  {
   "cell_type": "markdown",
   "metadata": {},
   "source": [
    "Look up available data sets using shell command."
   ]
  },
  {
   "cell_type": "code",
   "execution_count": 2,
   "metadata": {},
   "outputs": [
    {
     "name": "stdout",
     "output_type": "stream",
     "text": [
      "alturas_CA_fmt.CSV\r\n",
      "denver_CO_fmt.CSV\r\n",
      "ely_MN_fmt.CSV\r\n",
      "fort_lauderdale_FL_fmt.CSV\r\n",
      "houston_TX_fmt.CSV\r\n",
      "knoxville_TN_fmt.CSV\r\n",
      "lafayette_IN_fmt.CSV\r\n",
      "laramie_WY_fmt.CSV\r\n",
      "new_york_NY_fmt.CSV\r\n",
      "portland_OR_fmt.CSV\r\n",
      "san_diego_CA_fmt.CSV\r\n",
      "seattle_WA_fmt.CSV\r\n"
     ]
    }
   ],
   "source": [
    "!ls ./TMY_data/ | grep 'fmt'"
   ]
  },
  {
   "cell_type": "markdown",
   "metadata": {},
   "source": [
    "Define dictionary of city names for plot labeling."
   ]
  },
  {
   "cell_type": "code",
   "execution_count": 3,
   "metadata": {
    "collapsed": true
   },
   "outputs": [],
   "source": [
    "cities = {'alturas_CA':'Alturas, California',\n",
    "          'denver_CO':'Denver, Colorado',\n",
    "          'ely_MN':'Ely, Minnesota',\n",
    "          'fort_lauderdale_FL':'Fort Lauderdale, Florida',\n",
    "          'houston_TX':'Houston, Texas',\n",
    "         'knoxville_TN':'Knoxville, Tennessee',\n",
    "         'lafayette_IN':'Lafayette, Indiana',\n",
    "         'laramie_WY':'Laramie, WY',\n",
    "         'new_york_NY':'New York, New York',\n",
    "         'portland_OR':'Portland, Oregon',\n",
    "         'san_diego_CA':'San Diego, California',\n",
    "         'seattle_WA':'Seattle, Washington'}"
   ]
  },
  {
   "cell_type": "markdown",
   "metadata": {},
   "source": [
    "### Simulation"
   ]
  },
  {
   "cell_type": "markdown",
   "metadata": {},
   "source": [
    "From _Haillant et. al._, the local damage at time $t$, $D_t$, is calculated as:\n",
    "\n",
    "$$D_t = I_{t} A exp\\left(\\frac{-E_{a}}{R T_{t}}\\right) \\Delta t$$\n",
    "\n",
    "Where $I_{t}$ is the irradiance at time $t$, $A$ is the pre-exponential Arrhenius factor, $E_{a}$ is the activation energy, $R$ is the universal gas constant, and $T_{t}$ is the temperature at time $t$.\n",
    "\n",
    "\n",
    "In order to incorporate the effect of humidity, this simulation calculates a moisture factor as a second order function of humidity.  \n",
    "\n",
    "$$MF = A(RH^2)$$\n",
    "\n",
    "So the final form is:\n",
    "\n",
    "$$D_t = I_{t} MF exp\\left(\\frac{-E_{a}}{R T_{t}}\\right) \\Delta t$$\n",
    "\n",
    "Calculate the cumulative damage as:\n",
    "\n",
    "$$D_{cummulative,t} = \\sum_{0}^{t} I_{t} MF exp\\left(\\frac{-E_{a}}{R T_{t}}\\right) \\Delta t$$\n",
    "\n",
    "Terms relevant to the SQL query are:\n",
    "\n",
    "> __Time_fmt__: Properly formatted date/time string (YYYY-MM-DD-HH:mm:ss).<br><br>\n",
    "__GHI__:      Irradiance measurement in $\\frac{W \\cdot h}{m^2}$.  See data set documentation for details.<br><br>\n",
    "__Dry_bulb__: Dry-bulb temperature in $^{\\circ}\\!C$.<br><br>\n",
    "__Rhum__:     Relative humidity as a percentage.\n",
    "\n",
    "<br>"
   ]
  },
  {
   "cell_type": "code",
   "execution_count": 4,
   "metadata": {
    "collapsed": true
   },
   "outputs": [],
   "source": [
    "def simulation(city):\n",
    "    \n",
    "    # open MySQL connection\n",
    "    cnx = mysql.connector.connect(user='python_connection',\n",
    "                              password='demo_pass', \n",
    "                              database='NREL_TMY')\n",
    "\n",
    "    cursor = cnx.cursor()\n",
    "    query = \"\"\"SELECT Time_fmt, GHI, Dry_bulb, RHum FROM \"\"\" + city\n",
    "    cursor.execute(query)\n",
    "    cursor.column_names\n",
    "    \n",
    "    # initialize variables\n",
    "    damage_time_local = []\n",
    "    time_domain = []\n",
    "    T=[]\n",
    "    I = []\n",
    "    MF = []\n",
    "    A = 1.5\n",
    "    E_a = 60\n",
    "    R = 8.314\n",
    "\n",
    "    # loop for simulation\n",
    "    for row in cursor:\n",
    "        T.append(row[2] + 273)\n",
    "        I.append(row[1])\n",
    "        MF.append(A*((row[3]/100)**2))\n",
    "        damage_time_local.append(MF[-1] * I[-1] * math.exp(-E_a/(R*T[-1])))\n",
    "        time_domain.append(datetime.strptime(row[0], '%Y-%m-%d-%H:%M:%S'))\n",
    "    \n",
    "    # close MySQL connection\n",
    "    cnx.close()        \n",
    "        \n",
    "    # calculate cumulative damage\n",
    "    damage_cumulative = [sum(damage_time_local[0:x]) for x in range(len(damage_time_local))]\n",
    "     \n",
    "    # return data\n",
    "    return T, I, MF, damage_time_local,damage_cumulative, time_domain"
   ]
  },
  {
   "cell_type": "markdown",
   "metadata": {},
   "source": [
    "## Batch Experiment - Year"
   ]
  },
  {
   "cell_type": "markdown",
   "metadata": {},
   "source": [
    "Year experiment for all available data sets.  "
   ]
  },
  {
   "cell_type": "code",
   "execution_count": 5,
   "metadata": {},
   "outputs": [
    {
     "name": "stdout",
     "output_type": "stream",
     "text": [
      "\n",
      "\n",
      "Starting batch simulation with 12 cities...\n",
      "\n",
      "\n",
      "City                         Damage\n",
      "-----------------------------------\n",
      "Alturas, California         460,631\n",
      "-----------------------------------\n",
      "Denver, Colorado            438,088\n",
      "-----------------------------------\n",
      "Ely, Minnesota              637,937\n",
      "-----------------------------------\n",
      "Fort Lauderdale, Florida    988,430\n",
      "-----------------------------------\n",
      "Houston, Texas              792,034\n",
      "-----------------------------------\n",
      "Knoxville, Tennessee        796,807\n",
      "-----------------------------------\n",
      "Lafayette, Indiana          714,078\n",
      "-----------------------------------\n",
      "Laramie, WY                 399,829\n",
      "-----------------------------------\n",
      "New York, New York          586,177\n",
      "-----------------------------------\n",
      "Portland, Oregon            693,145\n",
      "-----------------------------------\n",
      "San Diego, California       1,049,232\n",
      "-----------------------------------\n",
      "Seattle, Washington         664,027\n",
      "-----------------------------------\n",
      "\n",
      "Display relative damage...\n",
      "\n",
      "\n"
     ]
    },
    {
     "data": {
      "image/png": "[encoded data removed]",
      "text/plain": [
       "<matplotlib.figure.Figure at 0x7fa38da46198>"
      ]
     },
     "metadata": {},
     "output_type": "display_data"
    },
    {
     "name": "stdout",
     "output_type": "stream",
     "text": [
      "\n",
      "\n",
      "Finished in  12.63  seconds.\n",
      "\n"
     ]
    }
   ],
   "source": [
    "# formatted heading for output\n",
    "init_str = '\\n\\nStarting batch simulation with ' + str(len(cities))+' cities...\\n\\n'\n",
    "heading_str = ('{:<25}'.format('City')+ '{:>10}'.format('Damage')\n",
    "              + '\\n-----------------------------------')\n",
    "print(init_str)\n",
    "print(heading_str)\n",
    "\n",
    "# initialize figure\n",
    "fig, ax = plt.subplots(figsize=(10,4))\n",
    "\n",
    "names = []       # names for bar chart labels\n",
    "name_loc = []    # location for bar chart labels\n",
    "values =[]       # value (height) of bars\n",
    "bar_loc = [-0.5] # location for bars\n",
    "\n",
    "# loop through dict of cities\n",
    "for key in cities:\n",
    "    \n",
    "    # runs simulation, discard output other than cumulative damage\n",
    "    _, _, _, _, damage_cumulative, _ = simulation(key)\n",
    "    \n",
    "    # get the label name and location\n",
    "    names.append(cities[key])\n",
    "    name_loc.append(bar_loc[-1] + 0.5)\n",
    "    \n",
    "    # get the bar height and location\n",
    "    values.append(damage_cumulative[-1])\n",
    "    bar_loc.append(bar_loc[-1]+1)\n",
    "   \n",
    "    # report the damage in the terminal\n",
    "    out_str = ('{:<25}'.format(cities[key])+ '   {:,}'.format(round(damage_cumulative[-1]))\n",
    "              + '\\n-----------------------------------')\n",
    "    print(out_str)\n",
    "\n",
    "    \n",
    "# plot the relative damage for all cities\n",
    "\n",
    "print('\\nDisplay relative damage...\\n\\n')\n",
    "\n",
    "relative_damage = [float(i)/max(values) for i in values]\n",
    "    \n",
    "ax.bar(bar_loc[1:],relative_damage)\n",
    "ax.set_xticks(name_loc)    \n",
    "ax.set_xticklabels(names,rotation = 45)\n",
    "\n",
    "plt.show()\n",
    "\n",
    "print('\\n\\nFinished in ','%.2f' % (time.time() - st),' seconds.\\n')"
   ]
  }
 ],
 "metadata": {
  "kernelspec": {
   "display_name": "Python 3",
   "language": "python",
   "name": "python3"
  },
  "language_info": {
   "codemirror_mode": {
    "name": "ipython",
    "version": 3
   },
   "file_extension": ".py",
   "mimetype": "text/x-python",
   "name": "python",
   "nbconvert_exporter": "python",
   "pygments_lexer": "ipython3",
   "version": "3.6.1"
  }
 },
 "nbformat": 4,
 "nbformat_minor": 2
}
