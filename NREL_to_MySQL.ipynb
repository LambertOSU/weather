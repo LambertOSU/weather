{
 "cells": [
  {
   "cell_type": "markdown",
   "metadata": {},
   "source": [
    "# Load NREL data files to mysql with DATETIME column."
   ]
  },
  {
   "cell_type": "markdown",
   "metadata": {},
   "source": [
    "This notebook loads previously altered CSV files containing NREL Typical Meteorological Year data sets in a MySQL database.  \n",
    "\n",
    "The files must have been processed using __format_nrel_data.ipynb__ (found in the repository) to convert the hour data from 01-24 to 00-23.  This operation adds an extra column, Time_fmt, to the raw data.  See the notebook for a detailed explanation."
   ]
  },
  {
   "cell_type": "markdown",
   "metadata": {},
   "source": [
    "Get the MySQL connector package."
   ]
  },
  {
   "cell_type": "code",
   "execution_count": 97,
   "metadata": {
    "collapsed": true
   },
   "outputs": [],
   "source": [
    "import mysql.connector"
   ]
  },
  {
   "cell_type": "markdown",
   "metadata": {},
   "source": [
    "Open the connection to the database."
   ]
  },
  {
   "cell_type": "code",
   "execution_count": 98,
   "metadata": {},
   "outputs": [],
   "source": [
    "cnx = mysql.connector.connect(user='python_connection',\n",
    "                              password='demo_pass', \n",
    "                              database='NREL_TMY')\n",
    "\n",
    "cursor = cnx.cursor()"
   ]
  },
  {
   "cell_type": "markdown",
   "metadata": {},
   "source": [
    "Look up the list of properly formatted data sets available"
   ]
  },
  {
   "cell_type": "code",
   "execution_count": 99,
   "metadata": {},
   "outputs": [
    {
     "name": "stdout",
     "output_type": "stream",
     "text": [
      "alturas_CA_fmt.CSV\r\n",
      "denver_CO_fmt.CSV\r\n",
      "ely_MN_fmt.CSV\r\n",
      "fort_lauderdale_FL_fmt.CSV\r\n",
      "houston_TX_fmt.CSV\r\n",
      "knoxville_TN_fmt.CSV\r\n",
      "lafayette_IN_fmt.CSV\r\n",
      "laramie_WY_fmt.CSV\r\n",
      "new_york_NY_fmt.CSV\r\n",
      "portland_OR_fmt.CSV\r\n",
      "san_diego_CA_fmt.CSV\r\n",
      "seattle_WA_fmt.CSV\r\n"
     ]
    }
   ],
   "source": [
    "!ls ./TMY_data/ | grep 'fmt'"
   ]
  },
  {
   "cell_type": "markdown",
   "metadata": {},
   "source": [
    "Define the 'city_ST' string for the file and table names."
   ]
  },
  {
   "cell_type": "code",
   "execution_count": 100,
   "metadata": {
    "collapsed": true
   },
   "outputs": [],
   "source": [
    "city ='ely_MN'"
   ]
  },
  {
   "cell_type": "markdown",
   "metadata": {},
   "source": [
    "Define a string with the SQL syntax for creating a table, then execute the string in the cursor."
   ]
  },
  {
   "cell_type": "code",
   "execution_count": 101,
   "metadata": {
    "collapsed": true
   },
   "outputs": [],
   "source": [
    "make_table_str = (\"\"\"CREATE TABLE \"\"\" + city +\n",
    "\"\"\"\\n(\n",
    "Date                   varchar(30),\n",
    "Time                   varchar(30),\n",
    "Time_fmt               varchar(30),\n",
    "ETR                    float(14,4),\n",
    "ETRN                   float(14,4),\n",
    "GHI                    float(14,4),\n",
    "GHI_source             varchar(30),\n",
    "GHI_uncert             tinyint,\n",
    "DNI                    float(14,4),\n",
    "DNI_source             varchar(30),\n",
    "DNI_uncert             tinyint,\n",
    "DHI                    float(14,4),\n",
    "DHI_source             varchar(30),\n",
    "DHI_uncert             tinyint,\n",
    "GH_illum               float(14,4),\n",
    "GH_illum_source        varchar(30),\n",
    "Global_illum_uncert    tinyint,\n",
    "DN_illum               float(14,4),\n",
    "DN_illum_source        varchar(30),\n",
    "DN_illum_uncert        tinyint,\n",
    "DH_illum               float(14,4),\n",
    "DH_illum_source        varchar(30),\n",
    "DH_illum_uncert        tinyint,\n",
    "Zenith_lum             float(14,4),\n",
    "Zenith_lum_source      varchar(30),\n",
    "Zenith_lum_uncert      tinyint,\n",
    "TotCld                 float(14,4),\n",
    "TotCld_source          varchar(30),\n",
    "TotCld_uncert          tinyint,\n",
    "OpqCld                 float(14,4),\n",
    "OpqCld_source          varchar(30),\n",
    "OpqCld_uncert          tinyint,\n",
    "Dry_bulb               float(14,4),\n",
    "Dry_bulb_source        varchar(30),\n",
    "Dry_bulb_uncert        tinyint,\n",
    "Dew_point              float(14,4),\n",
    "Dew_point_source       varchar(30),\n",
    "Dew_point_uncert       tinyint,\n",
    "RHum                   float(14,4),\n",
    "RHum_source            varchar(30),\n",
    "RHum_uncert            tinyint,\n",
    "Pressure               float(14,4),\n",
    "Pressure_source        varchar(30),\n",
    "Pressure_uncert        tinyint,\n",
    "Wdir                   float(14,4),\n",
    "Wdir_source            varchar(30),\n",
    "Wdir_uncert            tinyint,\n",
    "Wspd                   float(14,4),\n",
    "Wspd_source            varchar(30),\n",
    "Wspd_uncert            tinyint,\n",
    "Hvis                   float(14,4),\n",
    "Hvis_source            varchar(30),\n",
    "Hvis_uncert            tinyint,\n",
    "CeilHgt                float(14,4),\n",
    "CeilHgt_source         varchar(30),\n",
    "CeilHgt_uncert         tinyint,\n",
    "Pwat                   float(14,4),\n",
    "Pwat_source            varchar(30),\n",
    "Pwat_uncert            tinyint,\n",
    "AOD                    float(14,4),\n",
    "AOD_source             varchar(30),\n",
    "AOD_uncert             tinyint,\n",
    "Alb                    float(14,4),\n",
    "Alb_source             varchar(30),\n",
    "Alb_uncert             tinyint,\n",
    "Lprecip_depth          float(14,4),\n",
    "Lprecip_quantity       float(14,4),\n",
    "Lprecip_source         float(14,4),\n",
    "Lprecip_uncert         varchar(30),\n",
    "PresWth                varchar(30),\n",
    "PresWth_source         varchar(30),\n",
    "PresWth_uncert         varchar(30)\n",
    ");\"\"\")\n",
    "\n",
    "#print(make_table_str)\n",
    "\n",
    "# Execute\n",
    "cursor.execute(make_table_str)"
   ]
  },
  {
   "cell_type": "markdown",
   "metadata": {},
   "source": [
    "Define string with LOAD DATA commands for CSV file.  After the execution the changes must be committed."
   ]
  },
  {
   "cell_type": "code",
   "execution_count": 102,
   "metadata": {
    "scrolled": true
   },
   "outputs": [],
   "source": [
    "load_data_str = (r\"\"\"LOAD DATA LOCAL INFILE './TMY_data/\"\"\"+ city +r\"\"\"_fmt.CSV'\n",
    "INTO TABLE \"\"\"+ city +r\"\"\"\n",
    "COLUMNS TERMINATED BY ','\n",
    "OPTIONALLY ENCLOSED BY '\"'\n",
    "ESCAPED BY '\"'\n",
    "LINES TERMINATED BY '\\n'\n",
    "IGNORE 1 LINES;\"\"\")\n",
    "\n",
    "\n",
    "#print(load_data_str)\n",
    "cursor.execute(load_data_str)\n",
    "\n",
    "# Commit the changes!\n",
    "cnx.commit()"
   ]
  },
  {
   "cell_type": "markdown",
   "metadata": {},
   "source": [
    "Add a new column of type DATETIME and populate it using the formatted time, Time_fmt.  This facilitates writing queries on the table. "
   ]
  },
  {
   "cell_type": "code",
   "execution_count": 103,
   "metadata": {},
   "outputs": [],
   "source": [
    "new_col_str = \"\"\"ALTER TABLE \"\"\"+ city +r\"\"\" ADD Date_time DATETIME NOT NULL DEFAULT '2000-01-01 14:30:00' AFTER Time_fmt;\"\"\"\n",
    "cursor.execute(new_col_str)\n",
    "cnx.commit()\n",
    "#print(new_col_str)\n",
    "\n",
    "set_str = r\"\"\"SET sql_mode='';\"\"\"\n",
    "cursor.execute(set_str)\n",
    "cnx.commit()\n",
    "#print(set_str)\n",
    "\n",
    "update_str = \"\"\"UPDATE \"\"\"+ city +r\"\"\" SET Date_time = STR_TO_DATE(Time_fmt, '%Y-%m-%d-%H:%i:%s');\"\"\"\n",
    "cursor.execute(update_str)\n",
    "cnx.commit()\n",
    "#print(update_str)"
   ]
  },
  {
   "cell_type": "code",
   "execution_count": 104,
   "metadata": {
    "collapsed": true
   },
   "outputs": [],
   "source": [
    "cnx.close()"
   ]
  },
  {
   "cell_type": "code",
   "execution_count": null,
   "metadata": {
    "collapsed": true
   },
   "outputs": [],
   "source": []
  },
  {
   "cell_type": "code",
   "execution_count": null,
   "metadata": {
    "collapsed": true
   },
   "outputs": [],
   "source": []
  }
 ],
 "metadata": {
  "kernelspec": {
   "display_name": "Python 3",
   "language": "python",
   "name": "python3"
  },
  "language_info": {
   "codemirror_mode": {
    "name": "ipython",
    "version": 3
   },
   "file_extension": ".py",
   "mimetype": "text/x-python",
   "name": "python",
   "nbconvert_exporter": "python",
   "pygments_lexer": "ipython3",
   "version": "3.6.1"
  }
 },
 "nbformat": 4,
 "nbformat_minor": 2
}
