{
 "cells": [
  {
   "cell_type": "markdown",
   "metadata": {},
   "source": [
    "# Format NREL time stamps"
   ]
  },
  {
   "cell_type": "markdown",
   "metadata": {},
   "source": [
    "The typical meteorological year data sets have a 01-24 hour range.  MySQL and python both need 00-23.  This notebook loads the NREL data set as downloaded and creates a new column with a properly formatted timestamp.\n",
    "\n",
    "http://rredc.nrel.gov/solar/old_data/nsrdb/1991-2005/tmy3/by_state_and_city.html\n",
    "\n"
   ]
  },
  {
   "cell_type": "code",
   "execution_count": 2,
   "metadata": {
    "collapsed": true,
    "scrolled": false
   },
   "outputs": [],
   "source": [
    "import pandas as pd\n",
    "import re"
   ]
  },
  {
   "cell_type": "code",
   "execution_count": 3,
   "metadata": {},
   "outputs": [
    {
     "name": "stdout",
     "output_type": "stream",
     "text": [
      "alturas_CA.CSV\t\t    houston_TX_fmt.CSV\t  new_york_NY_fmt.CSV\r\n",
      "alturas_CA_fmt.CSV\t    knoxville_TN.CSV\t  portland_OR.CSV\r\n",
      "denver_CO.CSV\t\t    knoxville_TN_fmt.CSV  portland_OR_fmt.CSV\r\n",
      "denver_CO_fmt.CSV\t    lafayette_IN.CSV\t  san_diego_CA.CSV\r\n",
      "ely_MN.CSV\t\t    lafayette_IN_fmt.CSV  san_diego_CA_fmt.CSV\r\n",
      "fort_lauderdale_FL.CSV\t    laramie_WY.CSV\t  seattle_WA.CSV\r\n",
      "fort_lauderdale_FL_fmt.CSV  laramie_WY_fmt.CSV\t  seattle_WA_fmt.CSV\r\n",
      "houston_TX.CSV\t\t    new_york_NY.CSV\r\n"
     ]
    }
   ],
   "source": [
    "!ls ./TMY_data/"
   ]
  },
  {
   "cell_type": "markdown",
   "metadata": {},
   "source": [
    "File path for the data set.  I generate mine using a key word of 'city_state'."
   ]
  },
  {
   "cell_type": "code",
   "execution_count": 4,
   "metadata": {
    "collapsed": true
   },
   "outputs": [],
   "source": [
    "city = 'ely_MN'\n",
    "\n",
    "in_path = './TMY_data/' + city + '.CSV'"
   ]
  },
  {
   "cell_type": "markdown",
   "metadata": {},
   "source": [
    "Read the CSV file into a pandas dataframe, skip the row at the top with location info."
   ]
  },
  {
   "cell_type": "code",
   "execution_count": 5,
   "metadata": {
    "collapsed": true
   },
   "outputs": [],
   "source": [
    "df = pd.read_csv(in_path, skiprows=1)"
   ]
  },
  {
   "cell_type": "markdown",
   "metadata": {},
   "source": [
    "Option to look at some of the data and confirm import."
   ]
  },
  {
   "cell_type": "code",
   "execution_count": 6,
   "metadata": {
    "collapsed": true
   },
   "outputs": [],
   "source": [
    "#print(df[:4])"
   ]
  },
  {
   "cell_type": "markdown",
   "metadata": {},
   "source": [
    "This loop unpacks each date and time using a regular expression and a mapping.  A new timestamp is constructed with proper formatting and added to the new column, 'Time_fmt'."
   ]
  },
  {
   "cell_type": "code",
   "execution_count": 7,
   "metadata": {
    "collapsed": true
   },
   "outputs": [],
   "source": [
    "for x in range(len(df)):\n",
    "    \n",
    "    MM,DD,_ = map(str, re.findall('\\d+',df['Date (MM/DD/YYYY)'][x]))\n",
    "    hh,_ = map(int, re.findall('\\d+',df['Time (HH:MM)'][x]))\n",
    "    \n",
    "    # if statement accounts for leading zeros in single digit hour values\n",
    "    if hh<11:    \n",
    "        datetime_str = '2000-' + MM + '-' + DD + '-0' + str(hh-1) + \":\" + '00:00'\n",
    "    else:\n",
    "        datetime_str = '2000-' + MM + '-' + DD + '-' + str(hh-1) + \":\" + '00:00'\n",
    "    \n",
    "    \n",
    "    df.set_value(x,'Time_fmt',datetime_str)"
   ]
  },
  {
   "cell_type": "markdown",
   "metadata": {},
   "source": [
    "Check the new column."
   ]
  },
  {
   "cell_type": "code",
   "execution_count": 8,
   "metadata": {},
   "outputs": [
    {
     "name": "stdout",
     "output_type": "stream",
     "text": [
      "0    2000-01-01-00:00:00\n",
      "1    2000-01-01-01:00:00\n",
      "Name: Time_fmt, dtype: object\n"
     ]
    }
   ],
   "source": [
    "print(df['Time_fmt'][:2])"
   ]
  },
  {
   "cell_type": "markdown",
   "metadata": {},
   "source": [
    "Move the new column right next to the original Date and Time columns.  First get list of column names."
   ]
  },
  {
   "cell_type": "code",
   "execution_count": 9,
   "metadata": {},
   "outputs": [
    {
     "data": {
      "text/plain": [
       "['Date (MM/DD/YYYY)',\n",
       " 'Time (HH:MM)',\n",
       " 'ETR (W/m^2)',\n",
       " 'ETRN (W/m^2)',\n",
       " 'GHI (W/m^2)',\n",
       " 'GHI source',\n",
       " 'GHI uncert (%)',\n",
       " 'DNI (W/m^2)',\n",
       " 'DNI source',\n",
       " 'DNI uncert (%)',\n",
       " 'DHI (W/m^2)',\n",
       " 'DHI source',\n",
       " 'DHI uncert (%)',\n",
       " 'GH illum (lx)',\n",
       " 'GH illum source',\n",
       " 'Global illum uncert (%)',\n",
       " 'DN illum (lx)',\n",
       " 'DN illum source',\n",
       " 'DN illum uncert (%)',\n",
       " 'DH illum (lx)',\n",
       " 'DH illum source',\n",
       " 'DH illum uncert (%)',\n",
       " 'Zenith lum (cd/m^2)',\n",
       " 'Zenith lum source',\n",
       " 'Zenith lum uncert (%)',\n",
       " 'TotCld (tenths)',\n",
       " 'TotCld source',\n",
       " 'TotCld uncert (code)',\n",
       " 'OpqCld (tenths)',\n",
       " 'OpqCld source',\n",
       " 'OpqCld uncert (code)',\n",
       " 'Dry-bulb (C)',\n",
       " 'Dry-bulb source',\n",
       " 'Dry-bulb uncert (code)',\n",
       " 'Dew-point (C)',\n",
       " 'Dew-point source',\n",
       " 'Dew-point uncert (code)',\n",
       " 'RHum (%)',\n",
       " 'RHum source',\n",
       " 'RHum uncert (code)',\n",
       " 'Pressure (mbar)',\n",
       " 'Pressure source',\n",
       " 'Pressure uncert (code)',\n",
       " 'Wdir (degrees)',\n",
       " 'Wdir source',\n",
       " 'Wdir uncert (code)',\n",
       " 'Wspd (m/s)',\n",
       " 'Wspd source',\n",
       " 'Wspd uncert (code)',\n",
       " 'Hvis (m)',\n",
       " 'Hvis source',\n",
       " 'Hvis uncert (code)',\n",
       " 'CeilHgt (m)',\n",
       " 'CeilHgt source',\n",
       " 'CeilHgt uncert (code)',\n",
       " 'Pwat (cm)',\n",
       " 'Pwat source',\n",
       " 'Pwat uncert (code)',\n",
       " 'AOD (unitless)',\n",
       " 'AOD source',\n",
       " 'AOD uncert (code)',\n",
       " 'Alb (unitless)',\n",
       " 'Alb source',\n",
       " 'Alb uncert (code)',\n",
       " 'Lprecip depth (mm)',\n",
       " 'Lprecip quantity (hr)',\n",
       " 'Lprecip source',\n",
       " 'Lprecip uncert (code)',\n",
       " 'PresWth (METAR code)',\n",
       " 'PresWth source',\n",
       " 'PresWth uncert (code)',\n",
       " 'Time_fmt']"
      ]
     },
     "execution_count": 9,
     "metadata": {},
     "output_type": "execute_result"
    }
   ],
   "source": [
    "df.columns.tolist()"
   ]
  },
  {
   "cell_type": "markdown",
   "metadata": {},
   "source": [
    "Copy and paste list to a new variable name and rearrange.  This should not have to change with the NREL data sets"
   ]
  },
  {
   "cell_type": "code",
   "execution_count": 10,
   "metadata": {
    "collapsed": true
   },
   "outputs": [],
   "source": [
    "cols = ['Date (MM/DD/YYYY)',\n",
    " 'Time (HH:MM)',\n",
    " 'Time_fmt',\n",
    " 'ETR (W/m^2)',\n",
    " 'ETRN (W/m^2)',\n",
    " 'GHI (W/m^2)',\n",
    " 'GHI source',\n",
    " 'GHI uncert (%)',\n",
    " 'DNI (W/m^2)',\n",
    " 'DNI source',\n",
    " 'DNI uncert (%)',\n",
    " 'DHI (W/m^2)',\n",
    " 'DHI source',\n",
    " 'DHI uncert (%)',\n",
    " 'GH illum (lx)',\n",
    " 'GH illum source',\n",
    " 'Global illum uncert (%)',\n",
    " 'DN illum (lx)',\n",
    " 'DN illum source',\n",
    " 'DN illum uncert (%)',\n",
    " 'DH illum (lx)',\n",
    " 'DH illum source',\n",
    " 'DH illum uncert (%)',\n",
    " 'Zenith lum (cd/m^2)',\n",
    " 'Zenith lum source',\n",
    " 'Zenith lum uncert (%)',\n",
    " 'TotCld (tenths)',\n",
    " 'TotCld source',\n",
    " 'TotCld uncert (code)',\n",
    " 'OpqCld (tenths)',\n",
    " 'OpqCld source',\n",
    " 'OpqCld uncert (code)',\n",
    " 'Dry-bulb (C)',\n",
    " 'Dry-bulb source',\n",
    " 'Dry-bulb uncert (code)',\n",
    " 'Dew-point (C)',\n",
    " 'Dew-point source',\n",
    " 'Dew-point uncert (code)',\n",
    " 'RHum (%)',\n",
    " 'RHum source',\n",
    " 'RHum uncert (code)',\n",
    " 'Pressure (mbar)',\n",
    " 'Pressure source',\n",
    " 'Pressure uncert (code)',\n",
    " 'Wdir (degrees)',\n",
    " 'Wdir source',\n",
    " 'Wdir uncert (code)',\n",
    " 'Wspd (m/s)',\n",
    " 'Wspd source',\n",
    " 'Wspd uncert (code)',\n",
    " 'Hvis (m)',\n",
    " 'Hvis source',\n",
    " 'Hvis uncert (code)',\n",
    " 'CeilHgt (m)',\n",
    " 'CeilHgt source',\n",
    " 'CeilHgt uncert (code)',\n",
    " 'Pwat (cm)',\n",
    " 'Pwat source',\n",
    " 'Pwat uncert (code)',\n",
    " 'AOD (unitless)',\n",
    " 'AOD source',\n",
    " 'AOD uncert (code)',\n",
    " 'Alb (unitless)',\n",
    " 'Alb source',\n",
    " 'Alb uncert (code)',\n",
    " 'Lprecip depth (mm)',\n",
    " 'Lprecip quantity (hr)',\n",
    " 'Lprecip source',\n",
    " 'Lprecip uncert (code)',\n",
    " 'PresWth (METAR code)',\n",
    " 'PresWth source',\n",
    " 'PresWth uncert (code)']"
   ]
  },
  {
   "cell_type": "markdown",
   "metadata": {},
   "source": [
    "Reorder the columns using pandas label based indexing."
   ]
  },
  {
   "cell_type": "code",
   "execution_count": 11,
   "metadata": {
    "collapsed": true
   },
   "outputs": [],
   "source": [
    "df = df[cols]"
   ]
  },
  {
   "cell_type": "markdown",
   "metadata": {},
   "source": [
    "Check the dataframe"
   ]
  },
  {
   "cell_type": "code",
   "execution_count": 12,
   "metadata": {},
   "outputs": [
    {
     "name": "stdout",
     "output_type": "stream",
     "text": [
      "  Date (MM/DD/YYYY) Time (HH:MM)             Time_fmt  ETR (W/m^2)  \\\n",
      "0        01/01/1996        01:00  2000-01-01-00:00:00            0   \n",
      "1        01/01/1996        02:00  2000-01-01-01:00:00            0   \n",
      "2        01/01/1996        03:00  2000-01-01-02:00:00            0   \n",
      "\n",
      "   ETRN (W/m^2)  GHI (W/m^2)  GHI source  GHI uncert (%)  DNI (W/m^2)  \\\n",
      "0             0            0           1               0            0   \n",
      "1             0            0           1               0            0   \n",
      "2             0            0           1               0            0   \n",
      "\n",
      "   DNI source          ...            Alb (unitless)  Alb source  \\\n",
      "0           1          ...                       0.3           F   \n",
      "1           1          ...                       0.3           F   \n",
      "2           1          ...                       0.3           F   \n",
      "\n",
      "   Alb uncert (code)  Lprecip depth (mm)  Lprecip quantity (hr)  \\\n",
      "0                  8                   0                      1   \n",
      "1                  8                   0                      1   \n",
      "2                  8                   0                      1   \n",
      "\n",
      "   Lprecip source  Lprecip uncert (code)  PresWth (METAR code)  \\\n",
      "0               D                      9                     0   \n",
      "1               D                      9                     0   \n",
      "2               D                      9                     0   \n",
      "\n",
      "   PresWth source  PresWth uncert (code)  \n",
      "0               C                      8  \n",
      "1               C                      8  \n",
      "2               C                      8  \n",
      "\n",
      "[3 rows x 72 columns]\n"
     ]
    }
   ],
   "source": [
    "print(df[:3])"
   ]
  },
  {
   "cell_type": "markdown",
   "metadata": {},
   "source": [
    "Save to new CSV using with formatted flag '_fmt'."
   ]
  },
  {
   "cell_type": "code",
   "execution_count": 13,
   "metadata": {
    "collapsed": true
   },
   "outputs": [],
   "source": [
    "out_path = './TMY_data/' + city + '_fmt.CSV'\n",
    "\n",
    "df.to_csv(out_path,index=False)"
   ]
  },
  {
   "cell_type": "markdown",
   "metadata": {},
   "source": [
    "And now it's ready for SQL (or whatever)."
   ]
  }
 ],
 "metadata": {
  "kernelspec": {
   "display_name": "Python 3",
   "language": "python",
   "name": "python3"
  },
  "language_info": {
   "codemirror_mode": {
    "name": "ipython",
    "version": 3
   },
   "file_extension": ".py",
   "mimetype": "text/x-python",
   "name": "python",
   "nbconvert_exporter": "python",
   "pygments_lexer": "ipython3",
   "version": "3.6.1"
  }
 },
 "nbformat": 4,
 "nbformat_minor": 2
}
